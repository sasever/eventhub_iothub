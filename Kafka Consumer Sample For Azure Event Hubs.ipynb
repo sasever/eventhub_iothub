{
 "cells": [
  {
   "cell_type": "code",
   "execution_count": 7,
   "metadata": {},
   "outputs": [],
   "source": [
    "import time\n",
    "import json\n",
    "from kafka.errors import KafkaError\n",
    "import ssl\n",
    "from kafka import KafkaConsumer\n",
    "consumer = KafkaConsumer(bootstrap_servers=['kafkans.servicebus.windows.net:9093'],\n",
    "                         client_id = \"python_consumer_client\", \n",
    "                         sasl_mechanism = \"PLAIN\",\n",
    "                         security_protocol = \"SASL_SSL\",\n",
    "                         sasl_plain_username = \"$ConnectionString\",\n",
    "                         sasl_plain_password = \"Endpoint=sb://kafkans.servicebus.windows.net/;SharedAccessKeyName=RootManageSharedAccessKey;SharedAccessKey=LHn38lAkTYcBL/zDfgv91rWCbsKljWahmOG+/CTCQzw=\" ,                    \n",
    "                         ssl_context = ssl.create_default_context(),\n",
    "                         auto_offset_reset='earliest'\n",
    "                         #,value_deserializer=lambda m: json.loads(m)\n",
    "                        )\n",
    "consumer.subscribe(['kafkatopic'])\n"
   ]
  },
  {
   "cell_type": "code",
   "execution_count": null,
   "metadata": {},
   "outputs": [
    {
     "name": "stdout",
     "output_type": "stream",
     "text": [
      "b'{\"payload\": 801, \"signal\": \"pink\", \"timestamp\": \"Fri Jun  8 10:30:27 2018\"}'\n",
      "b'{\"payload\": 939, \"signal\": \"red\", \"timestamp\": \"Fri Jun  8 10:30:29 2018\"}'\n",
      "b'{\"payload\": 471, \"signal\": \"blue\", \"timestamp\": \"Fri Jun  8 10:30:31 2018\"}'\n",
      "b'{\"payload\": 159, \"signal\": \"yellow\", \"timestamp\": \"Fri Jun  8 10:30:33 2018\"}'\n",
      "b'{\"payload\": 46, \"signal\": \"black\", \"timestamp\": \"Fri Jun  8 10:30:35 2018\"}'\n",
      "b'{\"payload\": 639, \"signal\": \"pink\", \"timestamp\": \"Fri Jun  8 10:30:37 2018\"}'\n",
      "b'{\"payload\": 853, \"signal\": \"black\", \"timestamp\": \"Fri Jun  8 10:30:39 2018\"}'\n",
      "b'{\"payload\": 164, \"signal\": \"yellow\", \"timestamp\": \"Fri Jun  8 10:30:41 2018\"}'\n",
      "b'{\"payload\": 236, \"signal\": \"yellow\", \"timestamp\": \"Fri Jun  8 10:30:43 2018\"}'\n",
      "b'{\"payload\": 72, \"signal\": \"pink\", \"timestamp\": \"Fri Jun  8 10:30:45 2018\"}'\n"
     ]
    }
   ],
   "source": [
    "for message in consumer:\n",
    "    print (message.value)"
   ]
  },
  {
   "cell_type": "code",
   "execution_count": null,
   "metadata": {
    "collapsed": true
   },
   "outputs": [],
   "source": []
  }
 ],
 "metadata": {
  "kernelspec": {
   "display_name": "Python 3",
   "language": "python",
   "name": "python3"
  },
  "language_info": {
   "codemirror_mode": {
    "name": "ipython",
    "version": 3
   },
   "file_extension": ".py",
   "mimetype": "text/x-python",
   "name": "python",
   "nbconvert_exporter": "python",
   "pygments_lexer": "ipython3",
   "version": "3.6.6"
  }
 },
 "nbformat": 4,
 "nbformat_minor": 2
}
