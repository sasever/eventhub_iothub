{
 "cells": [
  {
   "cell_type": "code",
   "execution_count": 1,
   "metadata": {},
   "outputs": [
    {
     "name": "stdout",
     "output_type": "stream",
     "text": [
      "Requirement already satisfied: azure-eventhub in c:\\miniconda\\envs\\azehpy36\\lib\\site-packages (1.3.3)\n",
      "Requirement already satisfied: azure-storage-blob~=1.3 in c:\\miniconda\\envs\\azehpy36\\lib\\site-packages (from azure-eventhub) (1.5.0)\n",
      "Requirement already satisfied: azure-common~=1.1 in c:\\miniconda\\envs\\azehpy36\\lib\\site-packages (from azure-eventhub) (1.1.24)\n",
      "Requirement already satisfied: uamqp<2.0.0,>=1.2.5 in c:\\miniconda\\envs\\azehpy36\\lib\\site-packages (from azure-eventhub) (1.2.5)\n",
      "Requirement already satisfied: msrestazure<2.0.0,>=0.4.32 in c:\\miniconda\\envs\\azehpy36\\lib\\site-packages (from azure-eventhub) (0.6.2)\n",
      "Requirement already satisfied: azure-storage-common~=1.4 in c:\\miniconda\\envs\\azehpy36\\lib\\site-packages (from azure-storage-blob~=1.3->azure-eventhub) (1.4.2)\n",
      "Requirement already satisfied: certifi>=2017.4.17 in c:\\miniconda\\envs\\azehpy36\\lib\\site-packages (from uamqp<2.0.0,>=1.2.5->azure-eventhub) (2019.11.28)\n",
      "Requirement already satisfied: six~=1.0 in c:\\miniconda\\envs\\azehpy36\\lib\\site-packages (from uamqp<2.0.0,>=1.2.5->azure-eventhub) (1.13.0)\n",
      "Requirement already satisfied: msrest<2.0.0,>=0.6.0 in c:\\miniconda\\envs\\azehpy36\\lib\\site-packages (from msrestazure<2.0.0,>=0.4.32->azure-eventhub) (0.6.10)\n",
      "Requirement already satisfied: adal<2.0.0,>=0.6.0 in c:\\miniconda\\envs\\azehpy36\\lib\\site-packages (from msrestazure<2.0.0,>=0.4.32->azure-eventhub) (1.2.2)\n",
      "Requirement already satisfied: cryptography in c:\\miniconda\\envs\\azehpy36\\lib\\site-packages (from azure-storage-common~=1.4->azure-storage-blob~=1.3->azure-eventhub) (2.8)\n",
      "Requirement already satisfied: python-dateutil in c:\\miniconda\\envs\\azehpy36\\lib\\site-packages (from azure-storage-common~=1.4->azure-storage-blob~=1.3->azure-eventhub) (2.8.1)\n",
      "Requirement already satisfied: requests in c:\\miniconda\\envs\\azehpy36\\lib\\site-packages (from azure-storage-common~=1.4->azure-storage-blob~=1.3->azure-eventhub) (2.22.0)\n",
      "Requirement already satisfied: isodate>=0.6.0 in c:\\miniconda\\envs\\azehpy36\\lib\\site-packages (from msrest<2.0.0,>=0.6.0->msrestazure<2.0.0,>=0.4.32->azure-eventhub) (0.6.0)\n",
      "Requirement already satisfied: requests-oauthlib>=0.5.0 in c:\\miniconda\\envs\\azehpy36\\lib\\site-packages (from msrest<2.0.0,>=0.6.0->msrestazure<2.0.0,>=0.4.32->azure-eventhub) (1.3.0)\n",
      "Requirement already satisfied: PyJWT>=1.0.0 in c:\\miniconda\\envs\\azehpy36\\lib\\site-packages (from adal<2.0.0,>=0.6.0->msrestazure<2.0.0,>=0.4.32->azure-eventhub) (1.7.1)\n",
      "Requirement already satisfied: cffi!=1.11.3,>=1.8 in c:\\miniconda\\envs\\azehpy36\\lib\\site-packages (from cryptography->azure-storage-common~=1.4->azure-storage-blob~=1.3->azure-eventhub) (1.13.2)\n",
      "Requirement already satisfied: idna<2.9,>=2.5 in c:\\miniconda\\envs\\azehpy36\\lib\\site-packages (from requests->azure-storage-common~=1.4->azure-storage-blob~=1.3->azure-eventhub) (2.8)\n",
      "Requirement already satisfied: chardet<3.1.0,>=3.0.2 in c:\\miniconda\\envs\\azehpy36\\lib\\site-packages (from requests->azure-storage-common~=1.4->azure-storage-blob~=1.3->azure-eventhub) (3.0.4)\n",
      "Requirement already satisfied: urllib3!=1.25.0,!=1.25.1,<1.26,>=1.21.1 in c:\\miniconda\\envs\\azehpy36\\lib\\site-packages (from requests->azure-storage-common~=1.4->azure-storage-blob~=1.3->azure-eventhub) (1.25.7)\n",
      "Requirement already satisfied: oauthlib>=3.0.0 in c:\\miniconda\\envs\\azehpy36\\lib\\site-packages (from requests-oauthlib>=0.5.0->msrest<2.0.0,>=0.6.0->msrestazure<2.0.0,>=0.4.32->azure-eventhub) (3.1.0)\n",
      "Requirement already satisfied: pycparser in c:\\miniconda\\envs\\azehpy36\\lib\\site-packages (from cffi!=1.11.3,>=1.8->cryptography->azure-storage-common~=1.4->azure-storage-blob~=1.3->azure-eventhub) (2.19)\n"
     ]
    }
   ],
   "source": [
    "!pip install azure-eventhub"
   ]
  },
  {
   "cell_type": "code",
   "execution_count": 37,
   "metadata": {},
   "outputs": [],
   "source": [
    "# Import classes from Event Hubs python package\n",
    "from azure.eventhub import EventHubClient, Receiver, Offset,EventData\n",
    "import os\n",
    "import time \n",
    "import datetime\n",
    "import csv\n",
    "import json\n",
    "import operator\n",
    "from IPython.display import display, clear_output\n"
   ]
  },
  {
   "cell_type": "code",
   "execution_count": 12,
   "metadata": {},
   "outputs": [
    {
     "name": "stdout",
     "output_type": "stream",
     "text": [
      "2020-01-01 00:00:00\n",
      "2020-01-01 00:00:00\n",
      "365 days, 0:00:00\n"
     ]
    }
   ],
   "source": [
    "#if it is the first time use below\"\n",
    "#datastartdate=datetime.datetime.strptime(\"2020-01-01 00:00:00\", \"%Y-%m-%d %H:%M:%S\")\n",
    "#print(datetime.datetime.strftime(datastartdate, \"%Y-%m-%d %H:%M:%S\"))\n",
    "dataadd=datetime.timedelta(days=365)\n",
    "#later use below or implement reading from a log file where you left\n",
    "#datastartdate=datetime.datetime.today().replace(hour=0, minute=0, second=0, microsecond=0)\n",
    "datastartdate=datetime.datetime.strptime(\"2020-01-03 14:25:19\", \"%Y-%m-%d %H:%M:%S\")\n",
    "print(datetime.datetime.strftime(datastartdate, \"%Y-%m-%d %H:%M:%S\"))  \n",
    "print(dataadd)"
   ]
  },
  {
   "cell_type": "code",
   "execution_count": 6,
   "metadata": {},
   "outputs": [
    {
     "data": {
      "text/plain": [
       "'C:\\\\Users\\\\power\\\\Documents\\\\RanpUp'"
      ]
     },
     "execution_count": 6,
     "metadata": {},
     "output_type": "execute_result"
    }
   ],
   "source": [
    "os.getcwd()"
   ]
  },
  {
   "cell_type": "code",
   "execution_count": 7,
   "metadata": {},
   "outputs": [],
   "source": [
    "os.chdir('Data')"
   ]
  },
  {
   "cell_type": "code",
   "execution_count": 8,
   "metadata": {},
   "outputs": [
    {
     "name": "stdout",
     "output_type": "stream",
     "text": [
      "['green_tripdata_2019-01.csv']\n"
     ]
    }
   ],
   "source": [
    "files=sorted(os.listdir())\n",
    "print(files)"
   ]
  },
  {
   "cell_type": "code",
   "execution_count": 10,
   "metadata": {},
   "outputs": [],
   "source": [
    "#implement here something to get the right date for file\n",
    "fileName=files[0]"
   ]
  },
  {
   "cell_type": "code",
   "execution_count": 47,
   "metadata": {},
   "outputs": [
    {
     "name": "stdout",
     "output_type": "stream",
     "text": [
      "630918\n"
     ]
    }
   ],
   "source": [
    "#read into a list of dictioneries\n",
    "TripList = []\n",
    "with open(fileName,'r') as csv_file:\n",
    "    reader = csv.DictReader(csv_file)\n",
    "    TripList= [r for r in reader]\n",
    "print(len(TripList))"
   ]
  },
  {
   "cell_type": "markdown",
   "metadata": {},
   "source": [
    "Check the data"
   ]
  },
  {
   "cell_type": "code",
   "execution_count": 48,
   "metadata": {},
   "outputs": [
    {
     "name": "stdout",
     "output_type": "stream",
     "text": [
      "2020-01-01 00:00:00\n",
      "2009-01-01 00:06:03\n"
     ]
    }
   ],
   "source": [
    "#STripList = sorted(TripList, key=datetime.datetime.strptime(operator.itemgetter('lpep_dropoff_datetime'), \"%Y-%m-%d %H:%M:%S\"), reverse=False)\n",
    "STripList = sorted(TripList, key=operator.itemgetter('lpep_dropoff_datetime'), reverse=False).copy()\n",
    "print(datastartdate)\n",
    "print(STripList[0]['lpep_dropoff_datetime'])"
   ]
  },
  {
   "cell_type": "code",
   "execution_count": 49,
   "metadata": {},
   "outputs": [
    {
     "name": "stdout",
     "output_type": "stream",
     "text": [
      "OrderedDict([('VendorID', '2'), ('lpep_pickup_datetime', '2009-01-01 00:06:03'), ('lpep_dropoff_datetime', '2009-01-01 00:06:03'), ('store_and_fwd_flag', 'N'), ('RatecodeID', '1'), ('PULocationID', '264'), ('DOLocationID', '193'), ('passenger_count', '1'), ('trip_distance', '.00'), ('fare_amount', '0'), ('extra', '0'), ('mta_tax', '0'), ('tip_amount', '0'), ('tolls_amount', '0'), ('ehail_fee', ''), ('improvement_surcharge', '0'), ('total_amount', '0'), ('payment_type', '2'), ('trip_type', '1'), ('congestion_surcharge', '')])\n",
      "\n",
      "{\"VendorID\": \"2\", \"lpep_pickup_datetime\": \"2010-01-01 00:06:03\", \"lpep_dropoff_datetime\": \"2010-01-01 00:06:03\", \"store_and_fwd_flag\": \"N\", \"RatecodeID\": \"1\", \"PULocationID\": \"264\", \"DOLocationID\": \"193\", \"passenger_count\": \"1\", \"trip_distance\": \".00\", \"fare_amount\": \"0\", \"extra\": \"0\", \"mta_tax\": \"0\", \"tip_amount\": \"0\", \"tolls_amount\": \"0\", \"ehail_fee\": \"\", \"improvement_surcharge\": \"0\", \"total_amount\": \"0\", \"payment_type\": \"2\", \"trip_type\": \"1\", \"congestion_surcharge\": \"\"}\n"
     ]
    }
   ],
   "source": [
    "print(STripList[0])\n",
    "print(\"\")\n",
    "print(json.dumps(STripListUp[0]))"
   ]
  },
  {
   "cell_type": "markdown",
   "metadata": {},
   "source": [
    "Event hubs conenction info:"
   ]
  },
  {
   "cell_type": "code",
   "execution_count": 15,
   "metadata": {},
   "outputs": [],
   "source": [
    "# Address can be in either of these formats:\n",
    "# \"amqps://<URL-encoded-SAS-policy>:<URL-encoded-SAS-key>@<mynamespace>.servicebus.windows.net/myeventhub\"\n",
    "# \"amqps://<mynamespace>.servicebus.windows.net/myeventhub\"\n",
    "# For example:\n",
    "ADDRESS = \"amqps://rampupentry.servicebus.windows.net/nytaxi\"\n",
    "\n",
    "# SAS policy and key are not required if they are encoded in the URL\n",
    "USER = \"RootManageSharedAccessKeyNYTXpr\"\n",
    "KEY = \"H5lA9eaxr/C04KqeSxjXXLDjmFHWBhW++eLEh48oe2M=\""
   ]
  },
  {
   "cell_type": "markdown",
   "metadata": {},
   "source": [
    "Create and start the client"
   ]
  },
  {
   "cell_type": "code",
   "execution_count": 50,
   "metadata": {},
   "outputs": [
    {
     "data": {
      "text/plain": [
       "[]"
      ]
     },
     "execution_count": 50,
     "metadata": {},
     "output_type": "execute_result"
    }
   ],
   "source": [
    "# Create an Event Hubs client\n",
    "client = EventHubClient(ADDRESS, debug=False, username=USER, password=KEY)\n",
    "# Add a sender to the client\n",
    "sender = client.add_sender(partition=\"0\")\n",
    "\n",
    "# Run the Event Hub client\n",
    "client.run()"
   ]
  },
  {
   "cell_type": "markdown",
   "metadata": {},
   "source": [
    "iterate through the code converting the data to 2020. ıf the code fetches the actual time it will send it real time\n"
   ]
  },
  {
   "cell_type": "code",
   "execution_count": 51,
   "metadata": {},
   "outputs": [
    {
     "data": {
      "text/plain": [
       "'Will wait for '"
      ]
     },
     "metadata": {},
     "output_type": "display_data"
    },
    {
     "data": {
      "text/plain": [
       "'1.964153'"
      ]
     },
     "metadata": {},
     "output_type": "display_data"
    },
    {
     "data": {
      "text/plain": [
       "'for the next event send'"
      ]
     },
     "metadata": {},
     "output_type": "display_data"
    },
    {
     "ename": "KeyboardInterrupt",
     "evalue": "",
     "output_type": "error",
     "traceback": [
      "\u001b[1;31m---------------------------------------------------------------------------\u001b[0m",
      "\u001b[1;31mKeyboardInterrupt\u001b[0m                         Traceback (most recent call last)",
      "\u001b[1;32m<ipython-input-51-5a94810aae4d>\u001b[0m in \u001b[0;36m<module>\u001b[1;34m\u001b[0m\n\u001b[0;32m     26\u001b[0m             \u001b[0mclear_output\u001b[0m\u001b[1;33m(\u001b[0m\u001b[0mwait\u001b[0m\u001b[1;33m=\u001b[0m\u001b[1;32mTrue\u001b[0m\u001b[1;33m)\u001b[0m\u001b[1;33m\u001b[0m\u001b[1;33m\u001b[0m\u001b[0m\n\u001b[0;32m     27\u001b[0m             \u001b[0mdisplay\u001b[0m\u001b[1;33m(\u001b[0m \u001b[1;34m'Will wait for '\u001b[0m\u001b[1;33m,\u001b[0m\u001b[0mstr\u001b[0m\u001b[1;33m(\u001b[0m\u001b[0msecs\u001b[0m\u001b[1;33m)\u001b[0m\u001b[1;33m,\u001b[0m\u001b[1;34m'for the next event send'\u001b[0m\u001b[1;33m)\u001b[0m\u001b[1;33m\u001b[0m\u001b[1;33m\u001b[0m\u001b[0m\n\u001b[1;32m---> 28\u001b[1;33m             \u001b[0mtime\u001b[0m\u001b[1;33m.\u001b[0m\u001b[0msleep\u001b[0m\u001b[1;33m(\u001b[0m\u001b[0msecs\u001b[0m\u001b[1;33m)\u001b[0m\u001b[1;33m\u001b[0m\u001b[1;33m\u001b[0m\u001b[0m\n\u001b[0m\u001b[0;32m     29\u001b[0m             \u001b[1;31m#print(json.dumps(i))\u001b[0m\u001b[1;33m\u001b[0m\u001b[1;33m\u001b[0m\u001b[1;33m\u001b[0m\u001b[0m\n\u001b[0;32m     30\u001b[0m             \u001b[0mclear_output\u001b[0m\u001b[1;33m(\u001b[0m\u001b[0mwait\u001b[0m\u001b[1;33m=\u001b[0m\u001b[1;32mTrue\u001b[0m\u001b[1;33m)\u001b[0m\u001b[1;33m\u001b[0m\u001b[1;33m\u001b[0m\u001b[0m\n",
      "\u001b[1;31mKeyboardInterrupt\u001b[0m: "
     ]
    }
   ],
   "source": [
    "STripListUp = STripList.copy()\n",
    "for i in STripListUp:\n",
    "    trippickdate = datetime.datetime.strptime(i['lpep_pickup_datetime'], \"%Y-%m-%d %H:%M:%S\")  +dataadd\n",
    "    tripdropdate = datetime.datetime.strptime(i['lpep_dropoff_datetime'], \"%Y-%m-%d %H:%M:%S\")  +dataadd\n",
    "    i['lpep_pickup_datetime'] = trippickdate.strftime(\"%Y-%m-%d %H:%M:%S\") \n",
    "    i['lpep_dropoff_datetime'] = tripdropdate.strftime(\"%Y-%m-%d %H:%M:%S\")\n",
    "\n",
    "    datafromoffset=(tripdropdate - datastartdate).total_seconds()\n",
    "  \n",
    "    if datafromoffset>= 0:\n",
    "        secs=(tripdropdate - datetime.datetime.now()).total_seconds()\n",
    "                                                      \n",
    "        if secs<=0:\n",
    "            clear_output(wait=True)\n",
    "            display('Sending message for a trip happened at '+ i['lpep_dropoff_datetime']) \n",
    "            sender.send(EventData(json.dumps(i)))\n",
    "            #time.sleep(2)\n",
    "        elif secs>86400:\n",
    "            #it is a day.\n",
    "            clear_output(wait=True)\n",
    "            display('Next data will come a day later after '+str(secs)+' seconds, hence breaking')\n",
    "            #implement here something like a log file to keep where i left\n",
    "            break          \n",
    "        \n",
    "        else:\n",
    "            clear_output(wait=True)\n",
    "            display('Will wait for '+str(secs)+' for the next event send') \n",
    "            display('Sending message for a trip will happen  at '+ i['lpep_dropoff_datetime']) \n",
    "            time.sleep(secs)\n",
    "            #print(json.dumps(i))\n",
    "            sender.send(EventData(json.dumps(i)))\n",
    "    else:\n",
    "        clear_output(wait=True)\n",
    "        display('Trip date too small : '+i['lpep_dropoff_datetime'] +' will skip sending')     \n",
    "          \n",
    "\n",
    "            \n",
    "  \n",
    "                                                \n",
    "        "
   ]
  },
  {
   "cell_type": "code",
   "execution_count": 54,
   "metadata": {},
   "outputs": [],
   "source": [
    "# Stop the Event Hubs client\n",
    "client.stop()"
   ]
  }
 ],
 "metadata": {
  "kernelspec": {
   "display_name": "Python 3",
   "language": "python",
   "name": "python3"
  },
  "language_info": {
   "codemirror_mode": {
    "name": "ipython",
    "version": 3
   },
   "file_extension": ".py",
   "mimetype": "text/x-python",
   "name": "python",
   "nbconvert_exporter": "python",
   "pygments_lexer": "ipython3",
   "version": "3.6.9"
  }
 },
 "nbformat": 4,
 "nbformat_minor": 2
}
